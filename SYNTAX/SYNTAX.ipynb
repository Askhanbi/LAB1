{
 "cells": [
  {
   "cell_type": "code",
   "execution_count": 1,
   "id": "17c0e1c8-caa0-4955-b5b4-2ee6ff741941",
   "metadata": {},
   "outputs": [
    {
     "name": "stdout",
     "output_type": "stream",
     "text": [
      "Hello World!\n"
     ]
    }
   ],
   "source": [
    "print(\"Hello World!\")"
   ]
  },
  {
   "cell_type": "code",
   "execution_count": 2,
   "id": "1f412001",
   "metadata": {},
   "outputs": [
    {
     "name": "stdout",
     "output_type": "stream",
     "text": [
      "Five is greater than two!\n"
     ]
    }
   ],
   "source": [
    "if 5 > 2:\n",
    "    print(\"Five is greater than two!\")"
   ]
  },
  {
   "cell_type": "code",
   "execution_count": 3,
   "id": "075e6172",
   "metadata": {},
   "outputs": [],
   "source": [
    "# Wrong Syntax!\n",
    "#if 5 > 2:\n",
    "#print(\"Five is greater than two!\")"
   ]
  },
  {
   "cell_type": "code",
   "execution_count": 4,
   "id": "6c5e5406",
   "metadata": {},
   "outputs": [
    {
     "name": "stdout",
     "output_type": "stream",
     "text": [
      "Five is greater that two!\n",
      "Five is greater than two!\n"
     ]
    }
   ],
   "source": [
    "# also we can write\n",
    "if 5 > 2:\n",
    "    print(\"Five is greater that two!\")\n",
    "if 5 > 2:\n",
    "            print(\"Five is greater than two!\")"
   ]
  },
  {
   "cell_type": "code",
   "execution_count": 5,
   "id": "bc90cc36",
   "metadata": {},
   "outputs": [],
   "source": [
    "#Wrong Syntax\n",
    "#if 5 > 2:\n",
    "    #print(\"Five is greater than two!\")\n",
    "        #print(\"Five is greater than two!\")"
   ]
  },
  {
   "cell_type": "code",
   "execution_count": 6,
   "id": "4d486ba1",
   "metadata": {},
   "outputs": [],
   "source": [
    "#This is a comment. :D"
   ]
  },
  {
   "cell_type": "code",
   "execution_count": 7,
   "id": "a5560ffc",
   "metadata": {},
   "outputs": [
    {
     "name": "stdout",
     "output_type": "stream",
     "text": [
      "5\n",
      "Hello World!\n"
     ]
    }
   ],
   "source": [
    "x = 5\n",
    "y = \"Hello World!\"\n",
    "\n",
    "print(x)\n",
    "print(y)"
   ]
  }
 ],
 "metadata": {
  "kernelspec": {
   "display_name": "base",
   "language": "python",
   "name": "python3"
  },
  "language_info": {
   "codemirror_mode": {
    "name": "ipython",
    "version": 3
   },
   "file_extension": ".py",
   "mimetype": "text/x-python",
   "name": "python",
   "nbconvert_exporter": "python",
   "pygments_lexer": "ipython3",
   "version": "3.12.7"
  }
 },
 "nbformat": 4,
 "nbformat_minor": 5
}
